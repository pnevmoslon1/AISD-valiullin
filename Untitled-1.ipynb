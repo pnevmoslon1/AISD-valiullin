{
 "cells": [
  {
   "cell_type": "code",
   "execution_count": 1,
   "metadata": {},
   "outputs": [
    {
     "name": "stderr",
     "output_type": "stream",
     "text": [
      "[nltk_data] Downloading package punkt to\n",
      "[nltk_data]     C:\\Users\\123\\AppData\\Roaming\\nltk_data...\n",
      "[nltk_data]   Package punkt is already up-to-date!\n"
     ]
    },
    {
     "name": "stdout",
     "output_type": "stream",
     "text": [
      "                                          Desc   Predicted_Group  \\\n",
      "0                                  застря лифт             Лифты   \n",
      "1                             теч батар спальн  Управление домом   \n",
      "2                              теч сверх стояк  Управление домом   \n",
      "3                               теч кнс подвал  Управление домом   \n",
      "4                      теч кровл забит ливневк  Управление домом   \n",
      "...                                        ...               ...   \n",
      "28973  теч стык кнс подвал провер засор колодц  Управление домом   \n",
      "28974                        напор хвс пропада  Управление домом   \n",
      "28975                  обратн тяг венткана ван  Управление домом   \n",
      "28976                                    х гвс  Управление домом   \n",
      "28977                              работа лифт             Лифты   \n",
      "\n",
      "                                           Predicted_Cat  \n",
      "0                 Человек застрял в лифте,,,,,,,,,,,,,,,  \n",
      "1                              Сантехника,,,,,,,,,,,,,,,  \n",
      "2                              Сантехника,,,,,,,,,,,,,,,  \n",
      "3                             Канализация,,,,,,,,,,,,,,,  \n",
      "4                       Кровля (Протечка),,,,,,,,,,,,,,,  \n",
      "...                                                  ...  \n",
      "28973                         Канализация,,,,,,,,,,,,,,,  \n",
      "28974               ХВС (Слабое давление),,,,,,,,,,,,,,,  \n",
      "28975  Отсутствие тяги в дымовых и вентеляционных кан...  \n",
      "28976  ГВС (Несоответствие температурных параметров),...  \n",
      "28977  Неисправности лифта (Общие проблемы),,,,,,,,,,...  \n",
      "\n",
      "[28978 rows x 3 columns]\n"
     ]
    }
   ],
   "source": [
    "import pandas as pd\n",
    "from nltk.tokenize import word_tokenize\n",
    "import nltk\n",
    "from nltk.stem.snowball import SnowballStemmer\n",
    "import stop_words\n",
    "import re\n",
    "from sklearn.feature_extraction.text import TfidfVectorizer\n",
    "from sklearn.model_selection import train_test_split\n",
    "from sklearn.ensemble import RandomForestClassifier\n",
    "from sklearn.multioutput import MultiOutputClassifier\n",
    "from sklearn.pipeline import Pipeline\n",
    "\n",
    "# Загрузка необходимых ресурсов NLTK\n",
    "nltk.download('punkt')\n",
    "\n",
    "# Инициализация стеммера и стоп-слов\n",
    "stemmer = SnowballStemmer('russian')\n",
    "stop_words_ru = stop_words.get_stop_words('russian')\n",
    "\n",
    "# Функция для очистки текста\n",
    "def clear_txt(txt):\n",
    "    txt = txt.lower()\n",
    "    txt = re.sub('[/+_!@#$A-Za-z0-9\\n.,:()\"\"«»;-]', ' ', txt)\n",
    "    new_txt = ''\n",
    "    for t in txt.split(' '):\n",
    "        if len(t) > 0 and t not in stop_words_ru:  # Убираем стоп-слова\n",
    "            new_txt = new_txt + stemmer.stem(t) + ' '\n",
    "    return new_txt.strip()\n",
    "\n",
    "# Загрузка данных\n",
    "df_L = pd.read_csv('L.csv', sep=\";\", on_bad_lines='skip', encoding=\"Windows-1251\")\n",
    "df_C = pd.read_csv('C.csv', sep=\";\", on_bad_lines='skip', encoding=\"Windows-1251\")\n",
    "\n",
    "# Предобработка данных\n",
    "df_L = df_L[['Desc', 'Group', 'Cat']].dropna()\n",
    "df_C = df_C[['Desc']].dropna()  # Только Desc\n",
    "\n",
    "# Очистка текстов\n",
    "df_L['Desc'] = df_L['Desc'].apply(clear_txt)\n",
    "df_C['Desc'] = df_C['Desc'].apply(clear_txt)\n",
    "\n",
    "# Определение признаков и целевых переменных\n",
    "X = df_L['Desc']\n",
    "y = df_L[['Group', 'Cat']]  # Обе целевые переменные\n",
    "\n",
    "# Создание пайплайна с MultiOutputClassifier\n",
    "pipeline = Pipeline(steps=[\n",
    "    (\"tfidf\", TfidfVectorizer()),\n",
    "    (\"classifier\", MultiOutputClassifier(RandomForestClassifier(n_estimators=100, random_state=42)))\n",
    "])\n",
    "\n",
    "# Обучение модели\n",
    "pipeline.fit(X, y)\n",
    "\n",
    "# Предсказание для df_C\n",
    "predictions = pipeline.predict(df_C['Desc'])\n",
    "\n",
    "# Добавление предсказаний в df_C\n",
    "df_C['Predicted_Group'] = predictions[:, 0]  # Предсказания для Group\n",
    "df_C['Predicted_Cat'] = predictions[:, 1]    # Предсказания для Cat\n",
    "\n",
    "# Вывод результатов\n",
    "print(df_C[['Desc', 'Predicted_Group', 'Predicted_Cat']])\n"
   ]
  }
 ],
 "metadata": {
  "kernelspec": {
   "display_name": ".venv",
   "language": "python",
   "name": "python3"
  },
  "language_info": {
   "codemirror_mode": {
    "name": "ipython",
    "version": 3
   },
   "file_extension": ".py",
   "mimetype": "text/x-python",
   "name": "python",
   "nbconvert_exporter": "python",
   "pygments_lexer": "ipython3",
   "version": "3.12.0"
  }
 },
 "nbformat": 4,
 "nbformat_minor": 2
}
